{
 "cells": [
  {
   "cell_type": "code",
   "execution_count": 1,
   "id": "24d62745",
   "metadata": {},
   "outputs": [],
   "source": [
    "import pyspark\n",
    "from pyspark.sql import SparkSession\n",
    "spark=SparkSession.builder.appName('MissingValues').getOrCreate()"
   ]
  },
  {
   "cell_type": "code",
   "execution_count": 2,
   "id": "4bcd7025",
   "metadata": {},
   "outputs": [
    {
     "data": {
      "text/html": [
       "\n",
       "            <div>\n",
       "                <p><b>SparkSession - in-memory</b></p>\n",
       "                \n",
       "        <div>\n",
       "            <p><b>SparkContext</b></p>\n",
       "\n",
       "            <p><a href=\"http://192.168.18.23:4042\">Spark UI</a></p>\n",
       "\n",
       "            <dl>\n",
       "              <dt>Version</dt>\n",
       "                <dd><code>v3.3.0</code></dd>\n",
       "              <dt>Master</dt>\n",
       "                <dd><code>local[*]</code></dd>\n",
       "              <dt>AppName</dt>\n",
       "                <dd><code>MissingValues</code></dd>\n",
       "            </dl>\n",
       "        </div>\n",
       "        \n",
       "            </div>\n",
       "        "
      ],
      "text/plain": [
       "<pyspark.sql.session.SparkSession at 0x7fe5016253d0>"
      ]
     },
     "execution_count": 2,
     "metadata": {},
     "output_type": "execute_result"
    }
   ],
   "source": [
    "spark"
   ]
  },
  {
   "cell_type": "code",
   "execution_count": 55,
   "id": "fbcfc3ea",
   "metadata": {},
   "outputs": [],
   "source": [
    "df_pyspark=spark.read.csv('test2.csv', header=True, inferSchema=True)"
   ]
  },
  {
   "cell_type": "code",
   "execution_count": 5,
   "id": "f26a84dc",
   "metadata": {},
   "outputs": [
    {
     "name": "stdout",
     "output_type": "stream",
     "text": [
      "root\n",
      " |-- Name: string (nullable = true)\n",
      " |-- Age: integer (nullable = true)\n",
      " |-- Experience: integer (nullable = true)\n",
      " |-- Salary: integer (nullable = true)\n",
      "\n"
     ]
    }
   ],
   "source": [
    "df_pyspark.printSchema()"
   ]
  },
  {
   "cell_type": "code",
   "execution_count": 56,
   "id": "f22d5f35",
   "metadata": {},
   "outputs": [
    {
     "name": "stdout",
     "output_type": "stream",
     "text": [
      "+--------+----+----------+------+\n",
      "|    Name| Age|Experience|Salary|\n",
      "+--------+----+----------+------+\n",
      "|   Krish|  31|        10| 30000|\n",
      "|Sudhansh|  30|         8| 25000|\n",
      "|    Suny|  29|         4| 20000|\n",
      "|    Paul|  24|         3| 20000|\n",
      "|  Harsha|  21|         1| 15000|\n",
      "| Shubham|  23|         2| 18000|\n",
      "|  Mahesh|null|      null| 40000|\n",
      "|    null|  34|        10| 38000|\n",
      "|    null|  36|      null|  null|\n",
      "+--------+----+----------+------+\n",
      "\n"
     ]
    }
   ],
   "source": [
    "df_pyspark.show()"
   ]
  },
  {
   "cell_type": "code",
   "execution_count": 17,
   "id": "1052ce63",
   "metadata": {},
   "outputs": [
    {
     "name": "stdout",
     "output_type": "stream",
     "text": [
      "(9, 4)\n"
     ]
    }
   ],
   "source": [
    "# There is no .shape in pyspark\n",
    "print('shape : ', (df_pyspark.count(), len(df_pyspark.columns)))"
   ]
  },
  {
   "cell_type": "code",
   "execution_count": 22,
   "id": "a7a7aea0",
   "metadata": {},
   "outputs": [],
   "source": [
    "# Drop rows which contain null value\n",
    "df_pyspark2=df_pyspark.na.drop()"
   ]
  },
  {
   "cell_type": "code",
   "execution_count": 24,
   "id": "ab1a8db5",
   "metadata": {},
   "outputs": [
    {
     "name": "stdout",
     "output_type": "stream",
     "text": [
      "+--------+---+----------+------+\n",
      "|    Name|Age|Experience|Salary|\n",
      "+--------+---+----------+------+\n",
      "|   Krish| 31|        10| 30000|\n",
      "|Sudhansh| 30|         8| 25000|\n",
      "|    Suny| 29|         4| 20000|\n",
      "|    Paul| 24|         3| 20000|\n",
      "|  Harsha| 21|         1| 15000|\n",
      "| Shubham| 23|         2| 18000|\n",
      "+--------+---+----------+------+\n",
      "\n"
     ]
    }
   ],
   "source": [
    "df_pyspark2.show()"
   ]
  },
  {
   "cell_type": "code",
   "execution_count": 25,
   "id": "5e2ae357",
   "metadata": {},
   "outputs": [
    {
     "name": "stdout",
     "output_type": "stream",
     "text": [
      "shape :  (6, 4)\n"
     ]
    }
   ],
   "source": [
    "print('shape : ', (df_pyspark2.count(), len(df_pyspark2.columns)))"
   ]
  },
  {
   "cell_type": "code",
   "execution_count": 41,
   "id": "8caaa0c0",
   "metadata": {},
   "outputs": [],
   "source": [
    "# Shift + tab + tab to view the documentation for a specific method\n",
    "# by default how='any', this means drop rows if any of the value is null; similar concept for 'all'\n",
    "# by default thresh=None, if this is assigned k value, drop rows that consist of < k non-null values\n",
    "#     this overwrites the how parameter\n",
    "df_pyspark3=df_pyspark.na.drop(how='any', thresh=2)"
   ]
  },
  {
   "cell_type": "code",
   "execution_count": 43,
   "id": "6d5e78b2",
   "metadata": {},
   "outputs": [
    {
     "name": "stdout",
     "output_type": "stream",
     "text": [
      "+--------+----+----------+------+\n",
      "|    Name| Age|Experience|Salary|\n",
      "+--------+----+----------+------+\n",
      "|   Krish|  31|        10| 30000|\n",
      "|Sudhansh|  30|         8| 25000|\n",
      "|    Suny|  29|         4| 20000|\n",
      "|    Paul|  24|         3| 20000|\n",
      "|  Harsha|  21|         1| 15000|\n",
      "| Shubham|  23|         2| 18000|\n",
      "|  Mahesh|null|      null| 40000|\n",
      "|    null|  34|        10| 38000|\n",
      "+--------+----+----------+------+\n",
      "\n"
     ]
    }
   ],
   "source": [
    "df_pyspark3.show()"
   ]
  },
  {
   "cell_type": "code",
   "execution_count": 46,
   "id": "eef713cc",
   "metadata": {},
   "outputs": [],
   "source": [
    "# Set subset to apply the drop function only to certain column(s)\n",
    "df_pyspark4=df_pyspark.na.drop(how='any', subset=['Age'])"
   ]
  },
  {
   "cell_type": "code",
   "execution_count": 48,
   "id": "310feccc",
   "metadata": {},
   "outputs": [
    {
     "name": "stdout",
     "output_type": "stream",
     "text": [
      "+--------+---+----------+------+\n",
      "|    Name|Age|Experience|Salary|\n",
      "+--------+---+----------+------+\n",
      "|   Krish| 31|        10| 30000|\n",
      "|Sudhansh| 30|         8| 25000|\n",
      "|    Suny| 29|         4| 20000|\n",
      "|    Paul| 24|         3| 20000|\n",
      "|  Harsha| 21|         1| 15000|\n",
      "| Shubham| 23|         2| 18000|\n",
      "|    null| 34|        10| 38000|\n",
      "|    null| 36|      null|  null|\n",
      "+--------+---+----------+------+\n",
      "\n"
     ]
    }
   ],
   "source": [
    "df_pyspark4.show()"
   ]
  },
  {
   "cell_type": "code",
   "execution_count": 72,
   "id": "f1d68705",
   "metadata": {},
   "outputs": [],
   "source": [
    "# Filling up null values with pre-determined values\n",
    "# Note that the replaced values must be of same datatype as the column, otherwise it cannot be replaced\n",
    "df_pyspark5=df_pyspark.na.fill({\n",
    "                'Name' : 'Missing Value',\n",
    "                'Age'  : -1,\n",
    "                'Experience': -1,\n",
    "                'Salary'    : -1,\n",
    "                })"
   ]
  },
  {
   "cell_type": "code",
   "execution_count": 70,
   "id": "a4c292b6",
   "metadata": {},
   "outputs": [
    {
     "name": "stdout",
     "output_type": "stream",
     "text": [
      "+--------------+---+----------+------+\n",
      "|          Name|Age|Experience|Salary|\n",
      "+--------------+---+----------+------+\n",
      "|         Krish| 31|        10| 30000|\n",
      "|      Sudhansh| 30|         8| 25000|\n",
      "|          Suny| 29|         4| 20000|\n",
      "|          Paul| 24|         3| 20000|\n",
      "|        Harsha| 21|         1| 15000|\n",
      "|       Shubham| 23|         2| 18000|\n",
      "|        Mahesh| -1|        -1| 40000|\n",
      "|Missing Values| 34|        10| 38000|\n",
      "|Missing Values| 36|        -1|    -1|\n",
      "+--------------+---+----------+------+\n",
      "\n"
     ]
    }
   ],
   "source": [
    "df_pyspark5.show()"
   ]
  },
  {
   "cell_type": "code",
   "execution_count": 73,
   "id": "c3a06764",
   "metadata": {},
   "outputs": [],
   "source": [
    "# Filling up null values with computed values : mean,  median, etc.\n",
    "from pyspark.ml.feature import Imputer # 估算值\n",
    "\n",
    "imputer=Imputer(\n",
    "        inputCols=['Age', 'Experience', 'Salary'],\n",
    "        outputCols=['{}_imputed'.format(c) for c in ['Age', 'Experience', 'Salary']]\n",
    "    ).setStrategy('mean')"
   ]
  },
  {
   "cell_type": "code",
   "execution_count": 83,
   "id": "55dfdfd5",
   "metadata": {},
   "outputs": [],
   "source": [
    "# Add imputation columns to df_pyspark\n",
    "df_pyspark6=imputer.fit(df_pyspark).transform(df_pyspark)"
   ]
  },
  {
   "cell_type": "code",
   "execution_count": 84,
   "id": "a1a43f94",
   "metadata": {},
   "outputs": [
    {
     "name": "stdout",
     "output_type": "stream",
     "text": [
      "+--------+----+----------+------+-----------+------------------+--------------+\n",
      "|    Name| Age|Experience|Salary|Age_imputed|Experience_imputed|Salary_imputed|\n",
      "+--------+----+----------+------+-----------+------------------+--------------+\n",
      "|   Krish|  31|        10| 30000|         31|                10|         30000|\n",
      "|Sudhansh|  30|         8| 25000|         30|                 8|         25000|\n",
      "|    Suny|  29|         4| 20000|         29|                 4|         20000|\n",
      "|    Paul|  24|         3| 20000|         24|                 3|         20000|\n",
      "|  Harsha|  21|         1| 15000|         21|                 1|         15000|\n",
      "| Shubham|  23|         2| 18000|         23|                 2|         18000|\n",
      "|  Mahesh|null|      null| 40000|         28|                 5|         40000|\n",
      "|    null|  34|        10| 38000|         34|                10|         38000|\n",
      "|    null|  36|      null|  null|         36|                 5|         25750|\n",
      "+--------+----+----------+------+-----------+------------------+--------------+\n",
      "\n"
     ]
    }
   ],
   "source": [
    "df_pyspark6.show()"
   ]
  }
 ],
 "metadata": {
  "kernelspec": {
   "display_name": "Python 3",
   "language": "python",
   "name": "python3"
  },
  "language_info": {
   "codemirror_mode": {
    "name": "ipython",
    "version": 3
   },
   "file_extension": ".py",
   "mimetype": "text/x-python",
   "name": "python",
   "nbconvert_exporter": "python",
   "pygments_lexer": "ipython3",
   "version": "3.8.8"
  }
 },
 "nbformat": 4,
 "nbformat_minor": 5
}
